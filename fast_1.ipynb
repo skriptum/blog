{
  "nbformat": 4,
  "nbformat_minor": 0,
  "metadata": {
    "colab": {
      "name": "fast-1.ipynb",
      "provenance": [],
      "authorship_tag": "ABX9TyNtkq2aexksOO1Qcei38qg4",
      "include_colab_link": true
    },
    "kernelspec": {
      "name": "python3",
      "display_name": "Python 3"
    },
    "language_info": {
      "name": "python"
    }
  },
  "cells": [
    {
      "cell_type": "markdown",
      "metadata": {
        "id": "view-in-github",
        "colab_type": "text"
      },
      "source": [
        "<a href=\"https://colab.research.google.com/github/skriptum/blog/blob/master/fast_1.ipynb\" target=\"_parent\"><img src=\"https://colab.research.google.com/assets/colab-badge.svg\" alt=\"Open In Colab\"/></a>"
      ]
    },
    {
      "cell_type": "markdown",
      "metadata": {
        "id": "iDqEZrtj480F"
      },
      "source": [
        "# FastAI Course\n",
        "\n",
        "Introductionary Notebook for the first lesson: [FastAI-Course](https://course.fast.ai/videos/?lesson=1)"
      ]
    },
    {
      "cell_type": "markdown",
      "metadata": {
        "id": "M1PLARN660iX"
      },
      "source": [
        "**Articial Intelligence:**\n",
        "> A machine capable of perceiving, recognizing and identifying its surroundings without any human training"
      ]
    },
    {
      "cell_type": "markdown",
      "metadata": {
        "id": "Vu6azTDY8tDG"
      },
      "source": [
        "## First clear Model (MIT)\n",
        "**Parallel Distributed Processing 1996**\n",
        "\n",
        "`Processing Unit` \n",
        "\n",
        "-> `State of Activation`  \n",
        "\n",
        "-> `Output Function` \n",
        "\n",
        "-> `Pattern of connectivity` \n",
        "\n",
        "-> `Propagation Rule`\n",
        "\n",
        "-> `Activation Rule`\n",
        "\n",
        "-> `Learing Rule`\n",
        "\n",
        "-> `Environment`"
      ]
    },
    {
      "cell_type": "code",
      "metadata": {
        "id": "qePdSAcC-hbx"
      },
      "source": [
        ""
      ],
      "execution_count": null,
      "outputs": []
    }
  ]
}